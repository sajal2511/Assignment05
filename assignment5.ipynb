{
 "cells": [
  {
   "cell_type": "markdown",
   "id": "91f7922e-41e0-4ea2-af66-ead2a7598022",
   "metadata": {},
   "source": [
    "# Q.1. What does an empty dictionary's code look like?"
   ]
  },
  {
   "cell_type": "markdown",
   "id": "33b6c15f-4202-4b39-8199-9fab47a275d0",
   "metadata": {},
   "source": [
    "Ans: An empty pair of curly braces {} is an empty dictionary."
   ]
  },
  {
   "cell_type": "markdown",
   "id": "db8926a3-ea76-4757-aa7c-76d0946e3954",
   "metadata": {},
   "source": [
    "# Q.2. What is the value of a dictionary value with the key 'foo' and the value 42?"
   ]
  },
  {
   "cell_type": "markdown",
   "id": "c0e3e08a-6252-404f-8dd9-2fe5e6055df1",
   "metadata": {},
   "source": [
    "Ans: {'foo': 42}"
   ]
  },
  {
   "cell_type": "markdown",
   "id": "6d6e0271-8fa8-4e02-a016-cb924756c2d1",
   "metadata": {},
   "source": [
    "# Q.3. What is the most significant distinction between a dictionary and a list?"
   ]
  },
  {
   "cell_type": "markdown",
   "id": "9a15ca93-ade8-4e5a-9422-7a5ff990320c",
   "metadata": {},
   "source": [
    "Ans: The items stored in a dictionary are unordered, while the items in a list are ordered."
   ]
  },
  {
   "cell_type": "markdown",
   "id": "2c246068-d5db-40d0-b1e3-036c8c7adf97",
   "metadata": {},
   "source": [
    "# Q.4. What happens if you try to access spam['foo'] if spam is {'bar': 100}?"
   ]
  },
  {
   "cell_type": "markdown",
   "id": "fdbb8236-9eec-4695-a3e3-c3f30e4f9212",
   "metadata": {},
   "source": [
    "Ans: You get a KeyError error."
   ]
  },
  {
   "cell_type": "markdown",
   "id": "958d76e3-1571-4fae-95f8-ea31fc5b2b32",
   "metadata": {},
   "source": [
    "# Q.5. If a dictionary is stored in spam, what is the difference between the expressions 'cat' in spam and 'cat' in spam.keys()?"
   ]
  },
  {
   "cell_type": "markdown",
   "id": "5cc843d5-ddde-4890-8488-e5fd3db4f506",
   "metadata": {},
   "source": [
    "Ans: There is no difference. The in operator checks whether a value exists as a key in the dictionary."
   ]
  },
  {
   "cell_type": "markdown",
   "id": "faec2d0a-ad09-4d15-af62-53c28b3303fb",
   "metadata": {},
   "source": [
    "# Q.6. If a dictionary is stored in spam, what is the difference between the expressions 'cat' in spam and 'cat' in spam.values()?"
   ]
  },
  {
   "cell_type": "markdown",
   "id": "09eb5aad-0742-4457-8119-1705ea6eba00",
   "metadata": {},
   "source": [
    "Ans: 'cat' in spam checks whether there is a 'cat' key in the dictionary, while 'cat' in spam.values() checks whether there is a value 'cat' for one of the keys in spam."
   ]
  },
  {
   "cell_type": "markdown",
   "id": "1ff58ab7-f926-4f4b-acf7-bd0f5915f63e",
   "metadata": {},
   "source": [
    "# Q.7. What is a shortcut for the following code?"
   ]
  },
  {
   "cell_type": "markdown",
   "id": "e512384e-33b2-41e6-9145-0ac2f7c24560",
   "metadata": {},
   "source": [
    "if 'color' not in spam:\n",
    "    spam['color'] = 'black'"
   ]
  },
  {
   "cell_type": "markdown",
   "id": "1d4985ca-d3fd-4b82-85f0-bff46f044a91",
   "metadata": {},
   "source": [
    "Ans: spam.setdefault('color', 'black')"
   ]
  },
  {
   "cell_type": "markdown",
   "id": "f81e45be-15fe-4c77-945a-71e4539e0413",
   "metadata": {},
   "source": [
    "# Q.8. How do you \"pretty print\" dictionary values using which module and function?"
   ]
  },
  {
   "cell_type": "markdown",
   "id": "fbb0aacf-61d2-45f1-a8d8-e57a3ccbe8d2",
   "metadata": {},
   "source": [
    "Ans: pprint.pprint()"
   ]
  }
 ],
 "metadata": {
  "kernelspec": {
   "display_name": "Python 3 (ipykernel)",
   "language": "python",
   "name": "python3"
  },
  "language_info": {
   "codemirror_mode": {
    "name": "ipython",
    "version": 3
   },
   "file_extension": ".py",
   "mimetype": "text/x-python",
   "name": "python",
   "nbconvert_exporter": "python",
   "pygments_lexer": "ipython3",
   "version": "3.10.6"
  }
 },
 "nbformat": 4,
 "nbformat_minor": 5
}
